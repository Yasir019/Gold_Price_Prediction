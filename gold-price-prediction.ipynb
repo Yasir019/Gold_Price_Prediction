{
 "cells": [
  {
   "cell_type": "code",
   "execution_count": 1,
   "id": "bf1a151c",
   "metadata": {
    "_cell_guid": "b1076dfc-b9ad-4769-8c92-a6c4dae69d19",
    "_uuid": "8f2839f25d086af736a60e9eeb907d3b93b6e0e5",
    "execution": {
     "iopub.execute_input": "2024-06-10T06:56:41.436703Z",
     "iopub.status.busy": "2024-06-10T06:56:41.436260Z",
     "iopub.status.idle": "2024-06-10T06:56:42.513282Z",
     "shell.execute_reply": "2024-06-10T06:56:42.511699Z"
    },
    "papermill": {
     "duration": 1.091619,
     "end_time": "2024-06-10T06:56:42.515994",
     "exception": false,
     "start_time": "2024-06-10T06:56:41.424375",
     "status": "completed"
    },
    "tags": []
   },
   "outputs": [
    {
     "name": "stdout",
     "output_type": "stream",
     "text": [
      "/kaggle/input/gold-price-data/gld_price_data.csv\n"
     ]
    }
   ],
   "source": [
    "# This Python 3 environment comes with many helpful analytics libraries installed\n",
    "# It is defined by the kaggle/python Docker image: https://github.com/kaggle/docker-python\n",
    "# For example, here's several helpful packages to load\n",
    "\n",
    "import numpy as np # linear algebra\n",
    "import pandas as pd # data processing, CSV file I/O (e.g. pd.read_csv)\n",
    "\n",
    "# Input data files are available in the read-only \"../input/\" directory\n",
    "# For example, running this (by clicking run or pressing Shift+Enter) will list all files under the input directory\n",
    "\n",
    "import os\n",
    "for dirname, _, filenames in os.walk('/kaggle/input'):\n",
    "    for filename in filenames:\n",
    "        print(os.path.join(dirname, filename))\n",
    "\n",
    "# You can write up to 20GB to the current directory (/kaggle/working/) that gets preserved as output when you create a version using \"Save & Run All\" \n",
    "# You can also write temporary files to /kaggle/temp/, but they won't be saved outside of the current session"
   ]
  },
  {
   "cell_type": "markdown",
   "id": "b96a5e70",
   "metadata": {
    "papermill": {
     "duration": 0.010413,
     "end_time": "2024-06-10T06:56:42.536258",
     "exception": false,
     "start_time": "2024-06-10T06:56:42.525845",
     "status": "completed"
    },
    "tags": []
   },
   "source": [
    "**Importing the Libraries**"
   ]
  },
  {
   "cell_type": "code",
   "execution_count": 2,
   "id": "6aa1c7ff",
   "metadata": {
    "execution": {
     "iopub.execute_input": "2024-06-10T06:56:42.558273Z",
     "iopub.status.busy": "2024-06-10T06:56:42.557672Z",
     "iopub.status.idle": "2024-06-10T06:56:44.809987Z",
     "shell.execute_reply": "2024-06-10T06:56:44.808803Z"
    },
    "papermill": {
     "duration": 2.266567,
     "end_time": "2024-06-10T06:56:44.812978",
     "exception": false,
     "start_time": "2024-06-10T06:56:42.546411",
     "status": "completed"
    },
    "tags": []
   },
   "outputs": [],
   "source": [
    "import warnings\n",
    "import numpy as np\n",
    "import pandas as pd\n",
    "import matplotlib.pyplot as plt\n",
    "import seaborn as sns\n",
    "from sklearn.model_selection import train_test_split\n",
    "from sklearn.ensemble import RandomForestRegressor\n",
    "from sklearn import metrics"
   ]
  },
  {
   "cell_type": "markdown",
   "id": "281b555a",
   "metadata": {
    "papermill": {
     "duration": 0.009157,
     "end_time": "2024-06-10T06:56:44.831904",
     "exception": false,
     "start_time": "2024-06-10T06:56:44.822747",
     "status": "completed"
    },
    "tags": []
   },
   "source": [
    "**Data Collection and Processing**"
   ]
  },
  {
   "cell_type": "code",
   "execution_count": 3,
   "id": "f10f9005",
   "metadata": {
    "execution": {
     "iopub.execute_input": "2024-06-10T06:56:44.852845Z",
     "iopub.status.busy": "2024-06-10T06:56:44.852419Z",
     "iopub.status.idle": "2024-06-10T06:56:44.879228Z",
     "shell.execute_reply": "2024-06-10T06:56:44.877808Z"
    },
    "papermill": {
     "duration": 0.040844,
     "end_time": "2024-06-10T06:56:44.882368",
     "exception": false,
     "start_time": "2024-06-10T06:56:44.841524",
     "status": "completed"
    },
    "tags": []
   },
   "outputs": [],
   "source": [
    "# Loading the csv data to a Pandas DataFrame\n",
    "df=pd.read_csv(\"/kaggle/input/gold-price-data/gld_price_data.csv\")"
   ]
  },
  {
   "cell_type": "code",
   "execution_count": 4,
   "id": "05ea4e13",
   "metadata": {
    "execution": {
     "iopub.execute_input": "2024-06-10T06:56:44.903925Z",
     "iopub.status.busy": "2024-06-10T06:56:44.903464Z",
     "iopub.status.idle": "2024-06-10T06:56:44.934287Z",
     "shell.execute_reply": "2024-06-10T06:56:44.933001Z"
    },
    "papermill": {
     "duration": 0.04512,
     "end_time": "2024-06-10T06:56:44.937314",
     "exception": false,
     "start_time": "2024-06-10T06:56:44.892194",
     "status": "completed"
    },
    "tags": []
   },
   "outputs": [
    {
     "data": {
      "text/html": [
       "<div>\n",
       "<style scoped>\n",
       "    .dataframe tbody tr th:only-of-type {\n",
       "        vertical-align: middle;\n",
       "    }\n",
       "\n",
       "    .dataframe tbody tr th {\n",
       "        vertical-align: top;\n",
       "    }\n",
       "\n",
       "    .dataframe thead th {\n",
       "        text-align: right;\n",
       "    }\n",
       "</style>\n",
       "<table border=\"1\" class=\"dataframe\">\n",
       "  <thead>\n",
       "    <tr style=\"text-align: right;\">\n",
       "      <th></th>\n",
       "      <th>Date</th>\n",
       "      <th>SPX</th>\n",
       "      <th>GLD</th>\n",
       "      <th>USO</th>\n",
       "      <th>SLV</th>\n",
       "      <th>EUR/USD</th>\n",
       "    </tr>\n",
       "  </thead>\n",
       "  <tbody>\n",
       "    <tr>\n",
       "      <th>0</th>\n",
       "      <td>1/2/2008</td>\n",
       "      <td>1447.160034</td>\n",
       "      <td>84.860001</td>\n",
       "      <td>78.470001</td>\n",
       "      <td>15.180</td>\n",
       "      <td>1.471692</td>\n",
       "    </tr>\n",
       "    <tr>\n",
       "      <th>1</th>\n",
       "      <td>1/3/2008</td>\n",
       "      <td>1447.160034</td>\n",
       "      <td>85.570000</td>\n",
       "      <td>78.370003</td>\n",
       "      <td>15.285</td>\n",
       "      <td>1.474491</td>\n",
       "    </tr>\n",
       "    <tr>\n",
       "      <th>2</th>\n",
       "      <td>1/4/2008</td>\n",
       "      <td>1411.630005</td>\n",
       "      <td>85.129997</td>\n",
       "      <td>77.309998</td>\n",
       "      <td>15.167</td>\n",
       "      <td>1.475492</td>\n",
       "    </tr>\n",
       "    <tr>\n",
       "      <th>3</th>\n",
       "      <td>1/7/2008</td>\n",
       "      <td>1416.180054</td>\n",
       "      <td>84.769997</td>\n",
       "      <td>75.500000</td>\n",
       "      <td>15.053</td>\n",
       "      <td>1.468299</td>\n",
       "    </tr>\n",
       "    <tr>\n",
       "      <th>4</th>\n",
       "      <td>1/8/2008</td>\n",
       "      <td>1390.189941</td>\n",
       "      <td>86.779999</td>\n",
       "      <td>76.059998</td>\n",
       "      <td>15.590</td>\n",
       "      <td>1.557099</td>\n",
       "    </tr>\n",
       "  </tbody>\n",
       "</table>\n",
       "</div>"
      ],
      "text/plain": [
       "       Date          SPX        GLD        USO     SLV   EUR/USD\n",
       "0  1/2/2008  1447.160034  84.860001  78.470001  15.180  1.471692\n",
       "1  1/3/2008  1447.160034  85.570000  78.370003  15.285  1.474491\n",
       "2  1/4/2008  1411.630005  85.129997  77.309998  15.167  1.475492\n",
       "3  1/7/2008  1416.180054  84.769997  75.500000  15.053  1.468299\n",
       "4  1/8/2008  1390.189941  86.779999  76.059998  15.590  1.557099"
      ]
     },
     "execution_count": 4,
     "metadata": {},
     "output_type": "execute_result"
    }
   ],
   "source": [
    "#Print First 5 Rows\n",
    "df.head()"
   ]
  },
  {
   "cell_type": "code",
   "execution_count": 5,
   "id": "1c56afd3",
   "metadata": {
    "execution": {
     "iopub.execute_input": "2024-06-10T06:56:44.960238Z",
     "iopub.status.busy": "2024-06-10T06:56:44.959777Z",
     "iopub.status.idle": "2024-06-10T06:56:44.989867Z",
     "shell.execute_reply": "2024-06-10T06:56:44.988628Z"
    },
    "papermill": {
     "duration": 0.04569,
     "end_time": "2024-06-10T06:56:44.993047",
     "exception": false,
     "start_time": "2024-06-10T06:56:44.947357",
     "status": "completed"
    },
    "tags": []
   },
   "outputs": [
    {
     "name": "stdout",
     "output_type": "stream",
     "text": [
      "<class 'pandas.core.frame.DataFrame'>\n",
      "RangeIndex: 2290 entries, 0 to 2289\n",
      "Data columns (total 6 columns):\n",
      " #   Column   Non-Null Count  Dtype  \n",
      "---  ------   --------------  -----  \n",
      " 0   Date     2290 non-null   object \n",
      " 1   SPX      2290 non-null   float64\n",
      " 2   GLD      2290 non-null   float64\n",
      " 3   USO      2290 non-null   float64\n",
      " 4   SLV      2290 non-null   float64\n",
      " 5   EUR/USD  2290 non-null   float64\n",
      "dtypes: float64(5), object(1)\n",
      "memory usage: 107.5+ KB\n"
     ]
    }
   ],
   "source": [
    "# Explore Info\n",
    "df.info()"
   ]
  },
  {
   "cell_type": "code",
   "execution_count": 6,
   "id": "db8b8d39",
   "metadata": {
    "execution": {
     "iopub.execute_input": "2024-06-10T06:56:45.015465Z",
     "iopub.status.busy": "2024-06-10T06:56:45.015066Z",
     "iopub.status.idle": "2024-06-10T06:56:45.022638Z",
     "shell.execute_reply": "2024-06-10T06:56:45.021402Z"
    },
    "papermill": {
     "duration": 0.022264,
     "end_time": "2024-06-10T06:56:45.025389",
     "exception": false,
     "start_time": "2024-06-10T06:56:45.003125",
     "status": "completed"
    },
    "tags": []
   },
   "outputs": [
    {
     "data": {
      "text/plain": [
       "(2290, 6)"
      ]
     },
     "execution_count": 6,
     "metadata": {},
     "output_type": "execute_result"
    }
   ],
   "source": [
    "df.shape"
   ]
  },
  {
   "cell_type": "code",
   "execution_count": 7,
   "id": "d2090350",
   "metadata": {
    "execution": {
     "iopub.execute_input": "2024-06-10T06:56:45.048010Z",
     "iopub.status.busy": "2024-06-10T06:56:45.046875Z",
     "iopub.status.idle": "2024-06-10T06:56:45.073102Z",
     "shell.execute_reply": "2024-06-10T06:56:45.071168Z"
    },
    "papermill": {
     "duration": 0.040688,
     "end_time": "2024-06-10T06:56:45.076176",
     "exception": false,
     "start_time": "2024-06-10T06:56:45.035488",
     "status": "completed"
    },
    "tags": []
   },
   "outputs": [
    {
     "name": "stdout",
     "output_type": "stream",
     "text": [
      "               SPX          GLD          USO          SLV      EUR/USD\n",
      "count  2290.000000  2290.000000  2290.000000  2290.000000  2290.000000\n",
      "mean   1654.315776   122.732875    31.842221    20.084997     1.283653\n",
      "std     519.111540    23.283346    19.523517     7.092566     0.131547\n",
      "min     676.530029    70.000000     7.960000     8.850000     1.039047\n",
      "25%    1239.874969   109.725000    14.380000    15.570000     1.171313\n",
      "50%    1551.434998   120.580002    33.869999    17.268500     1.303297\n",
      "75%    2073.010070   132.840004    37.827501    22.882500     1.369971\n",
      "max    2872.870117   184.589996   117.480003    47.259998     1.598798\n"
     ]
    }
   ],
   "source": [
    "# Explore statistic of data\n",
    "print(df.describe())"
   ]
  },
  {
   "cell_type": "code",
   "execution_count": 8,
   "id": "4da98e60",
   "metadata": {
    "execution": {
     "iopub.execute_input": "2024-06-10T06:56:45.099779Z",
     "iopub.status.busy": "2024-06-10T06:56:45.099388Z",
     "iopub.status.idle": "2024-06-10T06:56:45.109295Z",
     "shell.execute_reply": "2024-06-10T06:56:45.107891Z"
    },
    "papermill": {
     "duration": 0.025732,
     "end_time": "2024-06-10T06:56:45.112331",
     "exception": false,
     "start_time": "2024-06-10T06:56:45.086599",
     "status": "completed"
    },
    "tags": []
   },
   "outputs": [
    {
     "data": {
      "text/plain": [
       "Date       0\n",
       "SPX        0\n",
       "GLD        0\n",
       "USO        0\n",
       "SLV        0\n",
       "EUR/USD    0\n",
       "dtype: int64"
      ]
     },
     "execution_count": 8,
     "metadata": {},
     "output_type": "execute_result"
    }
   ],
   "source": [
    "# Checking for Missing Values\n",
    "df.isnull().sum()"
   ]
  },
  {
   "cell_type": "markdown",
   "id": "842c4bdc",
   "metadata": {
    "papermill": {
     "duration": 0.010271,
     "end_time": "2024-06-10T06:56:45.133075",
     "exception": false,
     "start_time": "2024-06-10T06:56:45.122804",
     "status": "completed"
    },
    "tags": []
   },
   "source": [
    "**Correlation**"
   ]
  },
  {
   "cell_type": "markdown",
   "id": "ea0dcb1c",
   "metadata": {
    "papermill": {
     "duration": 0.010797,
     "end_time": "2024-06-10T06:56:45.154589",
     "exception": false,
     "start_time": "2024-06-10T06:56:45.143792",
     "status": "completed"
    },
    "tags": []
   },
   "source": [
    "1-Positive Correlation\n",
    "\n",
    "2-Negative Correlation"
   ]
  },
  {
   "cell_type": "code",
   "execution_count": 9,
   "id": "d56dd673",
   "metadata": {
    "execution": {
     "iopub.execute_input": "2024-06-10T06:56:45.177746Z",
     "iopub.status.busy": "2024-06-10T06:56:45.177321Z",
     "iopub.status.idle": "2024-06-10T06:56:45.200013Z",
     "shell.execute_reply": "2024-06-10T06:56:45.198701Z"
    },
    "papermill": {
     "duration": 0.037298,
     "end_time": "2024-06-10T06:56:45.202696",
     "exception": false,
     "start_time": "2024-06-10T06:56:45.165398",
     "status": "completed"
    },
    "tags": []
   },
   "outputs": [],
   "source": [
    "df['Date'] = pd.to_datetime(df['Date'])\n"
   ]
  },
  {
   "cell_type": "code",
   "execution_count": 10,
   "id": "49486c5e",
   "metadata": {
    "execution": {
     "iopub.execute_input": "2024-06-10T06:56:45.225671Z",
     "iopub.status.busy": "2024-06-10T06:56:45.225245Z",
     "iopub.status.idle": "2024-06-10T06:56:45.232756Z",
     "shell.execute_reply": "2024-06-10T06:56:45.231626Z"
    },
    "papermill": {
     "duration": 0.021986,
     "end_time": "2024-06-10T06:56:45.235304",
     "exception": false,
     "start_time": "2024-06-10T06:56:45.213318",
     "status": "completed"
    },
    "tags": []
   },
   "outputs": [],
   "source": [
    "correlation = df.corr()"
   ]
  },
  {
   "cell_type": "code",
   "execution_count": 11,
   "id": "bb7999b0",
   "metadata": {
    "execution": {
     "iopub.execute_input": "2024-06-10T06:56:45.258240Z",
     "iopub.status.busy": "2024-06-10T06:56:45.257764Z",
     "iopub.status.idle": "2024-06-10T06:56:45.817730Z",
     "shell.execute_reply": "2024-06-10T06:56:45.816524Z"
    },
    "papermill": {
     "duration": 0.574688,
     "end_time": "2024-06-10T06:56:45.820651",
     "exception": false,
     "start_time": "2024-06-10T06:56:45.245963",
     "status": "completed"
    },
    "tags": []
   },
   "outputs": [
    {
     "data": {
      "text/plain": [
       "<Axes: >"
      ]
     },
     "execution_count": 11,
     "metadata": {},
     "output_type": "execute_result"
    },
    {
     "data": {
      "image/png": "[encoded data removed]",
      "text/plain": [
       "<Figure size 800x800 with 2 Axes>"
      ]
     },
     "metadata": {},
     "output_type": "display_data"
    }
   ],
   "source": [
    "plt.figure(figsize=(8,8))\n",
    "sns.heatmap(correlation,cbar=True,annot=True,fmt=\".1f\",annot_kws={\"size\":8})"
   ]
  },
  {
   "cell_type": "code",
   "execution_count": 12,
   "id": "69e351de",
   "metadata": {
    "execution": {
     "iopub.execute_input": "2024-06-10T06:56:45.845213Z",
     "iopub.status.busy": "2024-06-10T06:56:45.844757Z",
     "iopub.status.idle": "2024-06-10T06:56:46.277545Z",
     "shell.execute_reply": "2024-06-10T06:56:46.275818Z"
    },
    "papermill": {
     "duration": 0.448671,
     "end_time": "2024-06-10T06:56:46.280497",
     "exception": false,
     "start_time": "2024-06-10T06:56:45.831826",
     "status": "completed"
    },
    "tags": []
   },
   "outputs": [
    {
     "name": "stderr",
     "output_type": "stream",
     "text": [
      "/tmp/ipykernel_18/934529333.py:2: UserWarning: \n",
      "\n",
      "`distplot` is a deprecated function and will be removed in seaborn v0.14.0.\n",
      "\n",
      "Please adapt your code to use either `displot` (a figure-level function with\n",
      "similar flexibility) or `histplot` (an axes-level function for histograms).\n",
      "\n",
      "For a guide to updating your code to use the new functions, please see\n",
      "https://gist.github.com/mwaskom/de44147ed2974457ad6372750bbe5751\n",
      "\n",
      "  sns.distplot(df[\"GLD\"],color=\"green\")\n",
      "/opt/conda/lib/python3.10/site-packages/seaborn/_oldcore.py:1119: FutureWarning: use_inf_as_na option is deprecated and will be removed in a future version. Convert inf values to NaN before operating instead.\n",
      "  with pd.option_context('mode.use_inf_as_na', True):\n"
     ]
    },
    {
     "data": {
      "text/plain": [
       "<Axes: xlabel='GLD', ylabel='Density'>"
      ]
     },
     "execution_count": 12,
     "metadata": {},
     "output_type": "execute_result"
    },
    {
     "data": {
      "image/png": "[encoded data removed]",
      "text/plain": [
       "<Figure size 640x480 with 1 Axes>"
      ]
     },
     "metadata": {},
     "output_type": "display_data"
    }
   ],
   "source": [
    "# Distributon of GLD price\n",
    "sns.distplot(df[\"GLD\"],color=\"green\")"
   ]
  },
  {
   "cell_type": "markdown",
   "id": "763e0033",
   "metadata": {
    "papermill": {
     "duration": 0.011845,
     "end_time": "2024-06-10T06:56:46.304682",
     "exception": false,
     "start_time": "2024-06-10T06:56:46.292837",
     "status": "completed"
    },
    "tags": []
   },
   "source": [
    "**Spliting the Features and Target**"
   ]
  },
  {
   "cell_type": "code",
   "execution_count": 13,
   "id": "bc978f5c",
   "metadata": {
    "execution": {
     "iopub.execute_input": "2024-06-10T06:56:46.331558Z",
     "iopub.status.busy": "2024-06-10T06:56:46.331096Z",
     "iopub.status.idle": "2024-06-10T06:56:46.338001Z",
     "shell.execute_reply": "2024-06-10T06:56:46.336759Z"
    },
    "papermill": {
     "duration": 0.023289,
     "end_time": "2024-06-10T06:56:46.340776",
     "exception": false,
     "start_time": "2024-06-10T06:56:46.317487",
     "status": "completed"
    },
    "tags": []
   },
   "outputs": [],
   "source": [
    "X=df.drop([\"Date\",\"GLD\"],axis=1)\n",
    "Y=df[\"GLD\"]"
   ]
  },
  {
   "cell_type": "code",
   "execution_count": 14,
   "id": "4f0610a6",
   "metadata": {
    "execution": {
     "iopub.execute_input": "2024-06-10T06:56:46.368160Z",
     "iopub.status.busy": "2024-06-10T06:56:46.367679Z",
     "iopub.status.idle": "2024-06-10T06:56:46.378170Z",
     "shell.execute_reply": "2024-06-10T06:56:46.376984Z"
    },
    "papermill": {
     "duration": 0.026784,
     "end_time": "2024-06-10T06:56:46.380923",
     "exception": false,
     "start_time": "2024-06-10T06:56:46.354139",
     "status": "completed"
    },
    "tags": []
   },
   "outputs": [
    {
     "name": "stdout",
     "output_type": "stream",
     "text": [
      "              SPX        USO      SLV   EUR/USD\n",
      "0     1447.160034  78.470001  15.1800  1.471692\n",
      "1     1447.160034  78.370003  15.2850  1.474491\n",
      "2     1411.630005  77.309998  15.1670  1.475492\n",
      "3     1416.180054  75.500000  15.0530  1.468299\n",
      "4     1390.189941  76.059998  15.5900  1.557099\n",
      "...           ...        ...      ...       ...\n",
      "2285  2671.919922  14.060000  15.5100  1.186789\n",
      "2286  2697.790039  14.370000  15.5300  1.184722\n",
      "2287  2723.070068  14.410000  15.7400  1.191753\n",
      "2288  2730.129883  14.380000  15.5600  1.193118\n",
      "2289  2725.780029  14.405800  15.4542  1.182033\n",
      "\n",
      "[2290 rows x 4 columns]\n"
     ]
    }
   ],
   "source": [
    "print(X)"
   ]
  },
  {
   "cell_type": "code",
   "execution_count": 15,
   "id": "b84f0e6b",
   "metadata": {
    "execution": {
     "iopub.execute_input": "2024-06-10T06:56:46.407489Z",
     "iopub.status.busy": "2024-06-10T06:56:46.407035Z",
     "iopub.status.idle": "2024-06-10T06:56:46.415790Z",
     "shell.execute_reply": "2024-06-10T06:56:46.414313Z"
    },
    "papermill": {
     "duration": 0.0255,
     "end_time": "2024-06-10T06:56:46.418785",
     "exception": false,
     "start_time": "2024-06-10T06:56:46.393285",
     "status": "completed"
    },
    "tags": []
   },
   "outputs": [
    {
     "name": "stdout",
     "output_type": "stream",
     "text": [
      "0        84.860001\n",
      "1        85.570000\n",
      "2        85.129997\n",
      "3        84.769997\n",
      "4        86.779999\n",
      "           ...    \n",
      "2285    124.589996\n",
      "2286    124.330002\n",
      "2287    125.180000\n",
      "2288    124.489998\n",
      "2289    122.543800\n",
      "Name: GLD, Length: 2290, dtype: float64\n"
     ]
    }
   ],
   "source": [
    "print(Y)"
   ]
  },
  {
   "cell_type": "markdown",
   "id": "c4368a2e",
   "metadata": {
    "papermill": {
     "duration": 0.013066,
     "end_time": "2024-06-10T06:56:46.445087",
     "exception": false,
     "start_time": "2024-06-10T06:56:46.432021",
     "status": "completed"
    },
    "tags": []
   },
   "source": [
    "**Splitting into Training data and Test Data**"
   ]
  },
  {
   "cell_type": "code",
   "execution_count": 16,
   "id": "c9f00015",
   "metadata": {
    "execution": {
     "iopub.execute_input": "2024-06-10T06:56:46.473002Z",
     "iopub.status.busy": "2024-06-10T06:56:46.472529Z",
     "iopub.status.idle": "2024-06-10T06:56:46.483301Z",
     "shell.execute_reply": "2024-06-10T06:56:46.481890Z"
    },
    "papermill": {
     "duration": 0.028254,
     "end_time": "2024-06-10T06:56:46.486333",
     "exception": false,
     "start_time": "2024-06-10T06:56:46.458079",
     "status": "completed"
    },
    "tags": []
   },
   "outputs": [],
   "source": [
    "X_train,X_test,Y_train,Y_test=train_test_split(X,Y,test_size=0.2,random_state=2)"
   ]
  },
  {
   "cell_type": "markdown",
   "id": "f9947a34",
   "metadata": {
    "papermill": {
     "duration": 0.012788,
     "end_time": "2024-06-10T06:56:46.512572",
     "exception": false,
     "start_time": "2024-06-10T06:56:46.499784",
     "status": "completed"
    },
    "tags": []
   },
   "source": [
    "**Model Training:Random Forest**"
   ]
  },
  {
   "cell_type": "code",
   "execution_count": 17,
   "id": "1891e1d7",
   "metadata": {
    "execution": {
     "iopub.execute_input": "2024-06-10T06:56:46.541714Z",
     "iopub.status.busy": "2024-06-10T06:56:46.541256Z",
     "iopub.status.idle": "2024-06-10T06:56:46.547435Z",
     "shell.execute_reply": "2024-06-10T06:56:46.546077Z"
    },
    "papermill": {
     "duration": 0.023254,
     "end_time": "2024-06-10T06:56:46.550164",
     "exception": false,
     "start_time": "2024-06-10T06:56:46.526910",
     "status": "completed"
    },
    "tags": []
   },
   "outputs": [],
   "source": [
    "Model=RandomForestRegressor(n_estimators=100)"
   ]
  },
  {
   "cell_type": "code",
   "execution_count": 18,
   "id": "82f42e52",
   "metadata": {
    "execution": {
     "iopub.execute_input": "2024-06-10T06:56:46.577190Z",
     "iopub.status.busy": "2024-06-10T06:56:46.576753Z",
     "iopub.status.idle": "2024-06-10T06:56:47.420707Z",
     "shell.execute_reply": "2024-06-10T06:56:47.419105Z"
    },
    "papermill": {
     "duration": 0.864489,
     "end_time": "2024-06-10T06:56:47.426823",
     "exception": false,
     "start_time": "2024-06-10T06:56:46.562334",
     "status": "completed"
    },
    "tags": []
   },
   "outputs": [
    {
     "data": {
      "text/html": [
       "<style>#sk-container-id-1 {color: black;background-color: white;}#sk-container-id-1 pre{padding: 0;}#sk-container-id-1 div.sk-toggleable {background-color: white;}#sk-container-id-1 label.sk-toggleable__label {cursor: pointer;display: block;width: 100%;margin-bottom: 0;padding: 0.3em;box-sizing: border-box;text-align: center;}#sk-container-id-1 label.sk-toggleable__label-arrow:before {content: \"▸\";float: left;margin-right: 0.25em;color: #696969;}#sk-container-id-1 label.sk-toggleable__label-arrow:hover:before {color: black;}#sk-container-id-1 div.sk-estimator:hover label.sk-toggleable__label-arrow:before {color: black;}#sk-container-id-1 div.sk-toggleable__content {max-height: 0;max-width: 0;overflow: hidden;text-align: left;background-color: #f0f8ff;}#sk-container-id-1 div.sk-toggleable__content pre {margin: 0.2em;color: black;border-radius: 0.25em;background-color: #f0f8ff;}#sk-container-id-1 input.sk-toggleable__control:checked~div.sk-toggleable__content {max-height: 200px;max-width: 100%;overflow: auto;}#sk-container-id-1 input.sk-toggleable__control:checked~label.sk-toggleable__label-arrow:before {content: \"▾\";}#sk-container-id-1 div.sk-estimator input.sk-toggleable__control:checked~label.sk-toggleable__label {background-color: #d4ebff;}#sk-container-id-1 div.sk-label input.sk-toggleable__control:checked~label.sk-toggleable__label {background-color: #d4ebff;}#sk-container-id-1 input.sk-hidden--visually {border: 0;clip: rect(1px 1px 1px 1px);clip: rect(1px, 1px, 1px, 1px);height: 1px;margin: -1px;overflow: hidden;padding: 0;position: absolute;width: 1px;}#sk-container-id-1 div.sk-estimator {font-family: monospace;background-color: #f0f8ff;border: 1px dotted black;border-radius: 0.25em;box-sizing: border-box;margin-bottom: 0.5em;}#sk-container-id-1 div.sk-estimator:hover {background-color: #d4ebff;}#sk-container-id-1 div.sk-parallel-item::after {content: \"\";width: 100%;border-bottom: 1px solid gray;flex-grow: 1;}#sk-container-id-1 div.sk-label:hover label.sk-toggleable__label {background-color: #d4ebff;}#sk-container-id-1 div.sk-serial::before {content: \"\";position: absolute;border-left: 1px solid gray;box-sizing: border-box;top: 0;bottom: 0;left: 50%;z-index: 0;}#sk-container-id-1 div.sk-serial {display: flex;flex-direction: column;align-items: center;background-color: white;padding-right: 0.2em;padding-left: 0.2em;position: relative;}#sk-container-id-1 div.sk-item {position: relative;z-index: 1;}#sk-container-id-1 div.sk-parallel {display: flex;align-items: stretch;justify-content: center;background-color: white;position: relative;}#sk-container-id-1 div.sk-item::before, #sk-container-id-1 div.sk-parallel-item::before {content: \"\";position: absolute;border-left: 1px solid gray;box-sizing: border-box;top: 0;bottom: 0;left: 50%;z-index: -1;}#sk-container-id-1 div.sk-parallel-item {display: flex;flex-direction: column;z-index: 1;position: relative;background-color: white;}#sk-container-id-1 div.sk-parallel-item:first-child::after {align-self: flex-end;width: 50%;}#sk-container-id-1 div.sk-parallel-item:last-child::after {align-self: flex-start;width: 50%;}#sk-container-id-1 div.sk-parallel-item:only-child::after {width: 0;}#sk-container-id-1 div.sk-dashed-wrapped {border: 1px dashed gray;margin: 0 0.4em 0.5em 0.4em;box-sizing: border-box;padding-bottom: 0.4em;background-color: white;}#sk-container-id-1 div.sk-label label {font-family: monospace;font-weight: bold;display: inline-block;line-height: 1.2em;}#sk-container-id-1 div.sk-label-container {text-align: center;}#sk-container-id-1 div.sk-container {/* jupyter's `normalize.less` sets `[hidden] { display: none; }` but bootstrap.min.css set `[hidden] { display: none !important; }` so we also need the `!important` here to be able to override the default hidden behavior on the sphinx rendered scikit-learn.org. See: https://github.com/scikit-learn/scikit-learn/issues/21755 */display: inline-block !important;position: relative;}#sk-container-id-1 div.sk-text-repr-fallback {display: none;}</style><div id=\"sk-container-id-1\" class=\"sk-top-container\"><div class=\"sk-text-repr-fallback\"><pre>RandomForestRegressor()</pre><b>In a Jupyter environment, please rerun this cell to show the HTML representation or trust the notebook. <br />On GitHub, the HTML representation is unable to render, please try loading this page with nbviewer.org.</b></div><div class=\"sk-container\" hidden><div class=\"sk-item\"><div class=\"sk-estimator sk-toggleable\"><input class=\"sk-toggleable__control sk-hidden--visually\" id=\"sk-estimator-id-1\" type=\"checkbox\" checked><label for=\"sk-estimator-id-1\" class=\"sk-toggleable__label sk-toggleable__label-arrow\">RandomForestRegressor</label><div class=\"sk-toggleable__content\"><pre>RandomForestRegressor()</pre></div></div></div></div></div>"
      ],
      "text/plain": [
       "RandomForestRegressor()"
      ]
     },
     "execution_count": 18,
     "metadata": {},
     "output_type": "execute_result"
    }
   ],
   "source": [
    "#Tranining the model\n",
    "Model.fit(X_train,Y_train)"
   ]
  },
  {
   "cell_type": "markdown",
   "id": "bca40d87",
   "metadata": {
    "papermill": {
     "duration": 0.01789,
     "end_time": "2024-06-10T06:56:47.465948",
     "exception": false,
     "start_time": "2024-06-10T06:56:47.448058",
     "status": "completed"
    },
    "tags": []
   },
   "source": [
    "**Model Evaluation**"
   ]
  },
  {
   "cell_type": "code",
   "execution_count": 19,
   "id": "185caf45",
   "metadata": {
    "execution": {
     "iopub.execute_input": "2024-06-10T06:56:47.500162Z",
     "iopub.status.busy": "2024-06-10T06:56:47.499604Z",
     "iopub.status.idle": "2024-06-10T06:56:47.531428Z",
     "shell.execute_reply": "2024-06-10T06:56:47.529869Z"
    },
    "papermill": {
     "duration": 0.051291,
     "end_time": "2024-06-10T06:56:47.535794",
     "exception": false,
     "start_time": "2024-06-10T06:56:47.484503",
     "status": "completed"
    },
    "tags": []
   },
   "outputs": [],
   "source": [
    "# Prediction on Test Data\n",
    "Test_Prediction=Model.predict(X_test)"
   ]
  },
  {
   "cell_type": "code",
   "execution_count": 20,
   "id": "20303c0d",
   "metadata": {
    "execution": {
     "iopub.execute_input": "2024-06-10T06:56:47.572052Z",
     "iopub.status.busy": "2024-06-10T06:56:47.570795Z",
     "iopub.status.idle": "2024-06-10T06:56:47.578764Z",
     "shell.execute_reply": "2024-06-10T06:56:47.577563Z"
    },
    "papermill": {
     "duration": 0.027834,
     "end_time": "2024-06-10T06:56:47.583405",
     "exception": false,
     "start_time": "2024-06-10T06:56:47.555571",
     "status": "completed"
    },
    "tags": []
   },
   "outputs": [
    {
     "name": "stdout",
     "output_type": "stream",
     "text": [
      "R squared error :  0.9894173316348025\n"
     ]
    }
   ],
   "source": [
    "# R square error\n",
    "error_score=metrics.r2_score(Y_test,Test_Prediction)\n",
    "print(\"R squared error : \",error_score)"
   ]
  },
  {
   "cell_type": "markdown",
   "id": "d9eb0bda",
   "metadata": {
    "papermill": {
     "duration": 0.015158,
     "end_time": "2024-06-10T06:56:47.616345",
     "exception": false,
     "start_time": "2024-06-10T06:56:47.601187",
     "status": "completed"
    },
    "tags": []
   },
   "source": [
    "**Compare Actual and Predicted values**"
   ]
  },
  {
   "cell_type": "code",
   "execution_count": 21,
   "id": "55bb1bbe",
   "metadata": {
    "execution": {
     "iopub.execute_input": "2024-06-10T06:56:47.648626Z",
     "iopub.status.busy": "2024-06-10T06:56:47.648210Z",
     "iopub.status.idle": "2024-06-10T06:56:48.004440Z",
     "shell.execute_reply": "2024-06-10T06:56:48.003143Z"
    },
    "papermill": {
     "duration": 0.374368,
     "end_time": "2024-06-10T06:56:48.008222",
     "exception": false,
     "start_time": "2024-06-10T06:56:47.633854",
     "status": "completed"
    },
    "tags": []
   },
   "outputs": [
    {
     "data": {
      "image/png": "[encoded data removed]",
      "text/plain": [
       "<Figure size 640x480 with 1 Axes>"
      ]
     },
     "metadata": {},
     "output_type": "display_data"
    }
   ],
   "source": [
    "plt.scatter(Y_test,Test_Prediction)\n",
    "plt.xlabel(\"Actual Price\")\n",
    "plt.ylabel(\"Predicted Price\")\n",
    "plt.title(\"Actual Vs Predicted Prices\")\n",
    "plt.show()"
   ]
  },
  {
   "cell_type": "code",
   "execution_count": null,
   "id": "4435179f",
   "metadata": {
    "papermill": {
     "duration": 0.014453,
     "end_time": "2024-06-10T06:56:48.043130",
     "exception": false,
     "start_time": "2024-06-10T06:56:48.028677",
     "status": "completed"
    },
    "tags": []
   },
   "outputs": [],
   "source": []
  }
 ],
 "metadata": {
  "kaggle": {
   "accelerator": "none",
   "dataSources": [
    {
     "datasetId": 145424,
     "sourceId": 339411,
     "sourceType": "datasetVersion"
    }
   ],
   "dockerImageVersionId": 30732,
   "isGpuEnabled": false,
   "isInternetEnabled": true,
   "language": "python",
   "sourceType": "notebook"
  },
  "kernelspec": {
   "display_name": "Python 3",
   "language": "python",
   "name": "python3"
  },
  "language_info": {
   "codemirror_mode": {
    "name": "ipython",
    "version": 3
   },
   "file_extension": ".py",
   "mimetype": "text/x-python",
   "name": "python",
   "nbconvert_exporter": "python",
   "pygments_lexer": "ipython3",
   "version": "3.10.13"
  },
  "papermill": {
   "default_parameters": {},
   "duration": 10.630728,
   "end_time": "2024-06-10T06:56:48.779708",
   "environment_variables": {},
   "exception": null,
   "input_path": "__notebook__.ipynb",
   "output_path": "__notebook__.ipynb",
   "parameters": {},
   "start_time": "2024-06-10T06:56:38.148980",
   "version": "2.5.0"
  }
 },
 "nbformat": 4,
 "nbformat_minor": 5
}
